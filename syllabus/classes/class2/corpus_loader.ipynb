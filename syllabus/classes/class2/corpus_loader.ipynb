{
 "cells": [
  {
   "cell_type": "markdown",
   "source": [
    "Before class, you should have a corpus loader ready. This should be able to read in each file in the folder syllabus/classes/data/train_corpus as a list of strings (or similar object)."
   ],
   "metadata": {}
  },
  {
   "cell_type": "code",
   "execution_count": 1,
   "source": [
    "# Import Module\r\n",
    "import os"
   ],
   "outputs": [],
   "metadata": {}
  },
  {
   "cell_type": "code",
   "execution_count": 115,
   "source": [
    "# All in one function, returning a list of strings\r\n",
    "\r\n",
    "def corpus_loader(folder_path: str) -> list:\r\n",
    "    \"\"\"\r\n",
    "    A corpus loader function which takes in a path to a \r\n",
    "    folder and returns a list of strings.\r\n",
    "    \"\"\"\r\n",
    "    # Creating empty list\r\n",
    "    documents = []\r\n",
    "\r\n",
    "    # Iterating through files, opening and appending the content to the list \r\n",
    "    for file in os.listdir(folder_path):\r\n",
    "        # Specifying file path\r\n",
    "        file_path = os.path.join(folder_path, file)\r\n",
    "\r\n",
    "        # Open and read file\r\n",
    "        with open(file_path, encoding=\"utf-8\") as f:\r\n",
    "            document = f.read()\r\n",
    "            documents.append(document)\r\n",
    "    \r\n",
    "    return documents"
   ],
   "outputs": [],
   "metadata": {}
  },
  {
   "cell_type": "code",
   "execution_count": 116,
   "source": [
    "# Testing the function\r\n",
    "corpus = corpus_loader(folder_path=\"/Users/louis/OneDrive - Aarhus universitet/Masters/1. Semester/Natural Language Processing/Coding/NLP-E21/syllabus/classes/data/train_corpus\")\r\n",
    "corpus[8]"
   ],
   "outputs": [
    {
     "output_type": "execute_result",
     "data": {
      "text/plain": [
       "\"http://www.speedtest.net/result/1155244347.png Awesome!!!! Yes my G1 screen is back working. They was about to Charge me $129... But i paid $100. they save me from having to deal with Tmobile... Tmobile want to Send of my phone and i didn't want to go thru that... 3 Days For get that... Great service. I would recommend them to anyone.. \""
      ]
     },
     "metadata": {},
     "execution_count": 116
    }
   ],
   "metadata": {}
  },
  {
   "cell_type": "code",
   "execution_count": 85,
   "source": [
    "# In two separate functions, outputting a generator object\r\n",
    "\r\n",
    "# Defining functions\r\n",
    "def read_text_file(file_path):\r\n",
    "    with open(file_path, encoding = \"utf-8\") as f:\r\n",
    "        document = f.read()\r\n",
    "        return document\r\n",
    "        #or just return f.read()\r\n",
    "\r\n",
    "def corpus_loader(folder_path: str):\r\n",
    "    \"\"\"\r\n",
    "    A corpus loader function which takes in a path to a \r\n",
    "    folder.\r\n",
    "    \"\"\"\r\n",
    "    # iterate through all files\r\n",
    "    for file in os.listdir(folder_path):\r\n",
    "        # specify file path\r\n",
    "        file_path = os.path.join(folder_path, file)\r\n",
    "        \r\n",
    "        # calling the function for reading txt files from above on each file\r\n",
    "        yield read_text_file(file_path) # creates generator object, can be transformed to list(generator-object)\r\n",
    "        #read_text_file(file_path)"
   ],
   "outputs": [],
   "metadata": {}
  },
  {
   "cell_type": "code",
   "execution_count": 86,
   "source": [
    "# Running the function\r\n",
    "corpus = corpus_loader(folder_path=\"/Users/louis/OneDrive - Aarhus universitet/Masters/1. Semester/Natural Language Processing/Coding/NLP-E21/syllabus/classes/data/train_corpus\")"
   ],
   "outputs": [],
   "metadata": {}
  },
  {
   "cell_type": "code",
   "execution_count": 87,
   "source": [
    "# Transforming into a list (of strings)\r\n",
    "corpus_lst = list(corpus)"
   ],
   "outputs": [],
   "metadata": {}
  },
  {
   "cell_type": "code",
   "execution_count": 110,
   "source": [
    "# Testing what difference indeces in the list of strings returns\r\n",
    "corpus_lst[8]"
   ],
   "outputs": [
    {
     "output_type": "execute_result",
     "data": {
      "text/plain": [
       "\"http://www.speedtest.net/result/1155244347.png Awesome!!!! Yes my G1 screen is back working. They was about to Charge me $129... But i paid $100. they save me from having to deal with Tmobile... Tmobile want to Send of my phone and i didn't want to go thru that... 3 Days For get that... Great service. I would recommend them to anyone.. \""
      ]
     },
     "metadata": {},
     "execution_count": 110
    }
   ],
   "metadata": {}
  }
 ],
 "metadata": {
  "orig_nbformat": 4,
  "language_info": {
   "name": "python",
   "version": "3.6.6",
   "mimetype": "text/x-python",
   "codemirror_mode": {
    "name": "ipython",
    "version": 3
   },
   "pygments_lexer": "ipython3",
   "nbconvert_exporter": "python",
   "file_extension": ".py"
  },
  "kernelspec": {
   "name": "python3",
   "display_name": "Python 3.6.6 64-bit ('nlp_env': venv)"
  },
  "interpreter": {
   "hash": "f20a2b0473630642730946317169bdea332e5675536504f1ca8796679a7e5286"
  }
 },
 "nbformat": 4,
 "nbformat_minor": 2
}