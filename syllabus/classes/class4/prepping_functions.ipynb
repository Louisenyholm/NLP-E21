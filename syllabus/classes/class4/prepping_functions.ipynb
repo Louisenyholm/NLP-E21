{
 "cells": [
  {
   "cell_type": "markdown",
   "source": [
    "#For trying out functions - prepping for class 4"
   ],
   "metadata": {}
  },
  {
   "cell_type": "code",
   "execution_count": 2,
   "source": [
    "import spacy\r\n",
    "from collections import Counter"
   ],
   "outputs": [],
   "metadata": {}
  },
  {
   "cell_type": "code",
   "execution_count": 3,
   "source": [
    "#list of tokens\r\n",
    "lot = [\"once\", \"upon\", \"a\", \"time\", \"a\", \"girl\", \"named\", \"Princess\", \"went\", \"for\", \"a\", \"walk\"]\r\n",
    "#list of lists\r\n",
    "lol = [[\"once\", \"upon\", \"a\", \"time\", \"a\", \"girl\", \"named\", \"Princess\", \"went\", \"for\", \"a\", \"walk\"],\r\n",
    "[\"she\", \"was\", \"happy\", \"to\", \"see\", \"a\", \"purple\", \"frog\", \"since\", \"they\", \"are\", \"usually\", \"green\", \"in\" \"those\", \"kinds\", \"of\", \"stories\"],\r\n",
    "[\"I\", \"am\", \"happy\", \"she\", \"said\"]]"
   ],
   "outputs": [],
   "metadata": {}
  },
  {
   "cell_type": "code",
   "execution_count": 4,
   "source": [
    "#function\r\n",
    "def term_freq(tokens) -> dict:\r\n",
    "    \"\"\"\r\n",
    "    Takes in a list of tokens (str) and return a dictionary of term frequency of each token\r\n",
    "    (doc = a list of tokens)\r\n",
    "    \"\"\"\r\n",
    "    #counting occurrences of each unique token\r\n",
    "    term_count = Counter(tokens)\r\n",
    "    #total number of tokens\r\n",
    "    n_tokens = len(tokens)\r\n",
    "\r\n",
    "    #put into dictionary in the formant token\r\n",
    "    tf_dict = {token: count/n_tokens for token, count in term_count.items()}\r\n",
    "    \r\n",
    "    #return tf_dict\r\n",
    "    return tf_dict"
   ],
   "outputs": [],
   "metadata": {}
  },
  {
   "cell_type": "code",
   "execution_count": 5,
   "source": [
    "#testing function\r\n",
    "term_freq(lot)"
   ],
   "outputs": [
    {
     "output_type": "execute_result",
     "data": {
      "text/plain": [
       "{'once': 0.08333333333333333,\n",
       " 'upon': 0.08333333333333333,\n",
       " 'a': 0.25,\n",
       " 'time': 0.08333333333333333,\n",
       " 'girl': 0.08333333333333333,\n",
       " 'named': 0.08333333333333333,\n",
       " 'Princess': 0.08333333333333333,\n",
       " 'went': 0.08333333333333333,\n",
       " 'for': 0.08333333333333333,\n",
       " 'walk': 0.08333333333333333}"
      ]
     },
     "metadata": {},
     "execution_count": 5
    }
   ],
   "metadata": {}
  },
  {
   "cell_type": "code",
   "execution_count": 6,
   "source": [
    "#function 2\r\n",
    "#doc_freq(t) = occurrence of term = word in document\r\n",
    "\r\n",
    "def doc_freq(doc_lst) -> dict:\r\n",
    "    \"\"\"\r\n",
    "    Takes in a list of documents which each is a list of tokens (str) and return a dictionary of frequencies for each token over all the documents. E.g. {\"Aarhus\": 20, \"the\": 2301, ...}\r\n",
    "    \"\"\"\r\n",
    "    #empty list (can only append to lists, not to counters)\r\n",
    "    all_counters_lst = []\r\n",
    "\r\n",
    "    #Iterating through docs\r\n",
    "    for doc in doc_lst:\r\n",
    "        #append to list a counter with frequencies in each doc\r\n",
    "        all_counters_lst.append(Counter(doc))\r\n",
    "\r\n",
    "    #Empty counter (.update works on counters, not lists)\r\n",
    "    all_counters = Counter()\r\n",
    "\r\n",
    "    #iterating thorugh counters, updating (=adding)\r\n",
    "    for counter in all_counters_lst:\r\n",
    "        all_counters.update(counter)\r\n",
    "\r\n",
    "    return all_counters"
   ],
   "outputs": [],
   "metadata": {}
  },
  {
   "cell_type": "code",
   "execution_count": 7,
   "source": [
    "#testing function\r\n",
    "doc_freq(lol)"
   ],
   "outputs": [
    {
     "output_type": "execute_result",
     "data": {
      "text/plain": [
       "Counter({'once': 1,\n",
       "         'upon': 1,\n",
       "         'a': 4,\n",
       "         'time': 1,\n",
       "         'girl': 1,\n",
       "         'named': 1,\n",
       "         'Princess': 1,\n",
       "         'went': 1,\n",
       "         'for': 1,\n",
       "         'walk': 1,\n",
       "         'she': 2,\n",
       "         'was': 1,\n",
       "         'happy': 2,\n",
       "         'to': 1,\n",
       "         'see': 1,\n",
       "         'purple': 1,\n",
       "         'frog': 1,\n",
       "         'since': 1,\n",
       "         'they': 1,\n",
       "         'are': 1,\n",
       "         'usually': 1,\n",
       "         'green': 1,\n",
       "         'inthose': 1,\n",
       "         'kinds': 1,\n",
       "         'of': 1,\n",
       "         'stories': 1,\n",
       "         'I': 1,\n",
       "         'am': 1,\n",
       "         'said': 1})"
      ]
     },
     "metadata": {},
     "execution_count": 7
    }
   ],
   "metadata": {}
  },
  {
   "cell_type": "markdown",
   "source": [
    "## MISUNDERSTOOD"
   ],
   "metadata": {}
  },
  {
   "cell_type": "code",
   "execution_count": null,
   "source": [
    "# prepping some input for the functions below\r\n",
    "# doc_EN_DA_dog = [doc, doc_da, doc_dog]\r\n",
    "# print(type(doc_EN_DA_dog))\r\n",
    "# print(doc_EN_DA_dog)"
   ],
   "outputs": [],
   "metadata": {}
  },
  {
   "cell_type": "code",
   "execution_count": null,
   "source": [
    "# def term_freq(tokens) -> dict:\r\n",
    "#     \"\"\"\r\n",
    "#     Takes in a list of tokens (str) and return a dictionary of term frequency of each token\r\n",
    "#     (doc = a list of tokens)\r\n",
    "#     \"\"\"\r\n",
    "    \r\n",
    "#     #counts number of cases of the different class types (pos)\r\n",
    "#     pos_counts = Counter([token.pos_ for token in doc])\r\n",
    "\r\n",
    "#     # For class type tag (pos) and count (both from above),\r\n",
    "#     # take the pos tag and the count divided by length to get freq\r\n",
    "#     tf_lst = [(pos, count/len(doc)) for pos, count in pos_counts.items()]\r\n",
    "#     #convert the list of tuples to a dictionary\r\n",
    "#     tf_dict = dict(tf_lst)\r\n",
    "\r\n",
    "#     return tf_dict"
   ],
   "outputs": [],
   "metadata": {}
  },
  {
   "cell_type": "code",
   "execution_count": null,
   "source": [
    "\r\n",
    "# #doc_freq(t) = occurrence of t in document\r\n",
    "\r\n",
    "# def doc_freq(doc_lst) -> dict:\r\n",
    "#     \"\"\"\r\n",
    "#     Takes in a list of documents which each is a list of tokens (str) and return a dictionary of frequencies for each token over all the documents. E.g. {\"Aarhus\": 20, \"the\": 2301, ...}\r\n",
    "#     \"\"\"\r\n",
    "#     #empty list (can only append to lists, not to counters)\r\n",
    "#     all_counters_lst = []\r\n",
    "\r\n",
    "#     #Iterating through docs\r\n",
    "#     for doc in doc_lst:\r\n",
    "#         #append to list a counter with frequencies of pos in each doc\r\n",
    "#         all_counters_lst.append(Counter([token.pos_ for token in doc]))\r\n",
    "\r\n",
    "#     #Empty counter (.update works on counters, not lists)\r\n",
    "#     all_counters = Counter()\r\n",
    "\r\n",
    "#     #iterating thorugh counters, updating (=adding)\r\n",
    "#     for counter in all_counters_lst:\r\n",
    "#         all_counters.update(counter)\r\n",
    "\r\n",
    "#     return all_counters"
   ],
   "outputs": [],
   "metadata": {}
  },
  {
   "cell_type": "code",
   "execution_count": null,
   "source": [
    "#testing the function above\r\n",
    "#doc_freq(doc_lst = doc_EN_DA_dog)"
   ],
   "outputs": [],
   "metadata": {}
  }
 ],
 "metadata": {
  "orig_nbformat": 4,
  "language_info": {
   "name": "python",
   "version": "3.6.6",
   "mimetype": "text/x-python",
   "codemirror_mode": {
    "name": "ipython",
    "version": 3
   },
   "pygments_lexer": "ipython3",
   "nbconvert_exporter": "python",
   "file_extension": ".py"
  },
  "kernelspec": {
   "name": "python3",
   "display_name": "Python 3.6.6 64-bit ('nlp_env': venv)"
  },
  "interpreter": {
   "hash": "f20a2b0473630642730946317169bdea332e5675536504f1ca8796679a7e5286"
  }
 },
 "nbformat": 4,
 "nbformat_minor": 2
}