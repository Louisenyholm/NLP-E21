{
 "cells": [
  {
   "cell_type": "code",
   "execution_count": 1,
   "metadata": {},
   "outputs": [],
   "source": [
    "from transformers import pipeline"
   ]
  },
  {
   "cell_type": "code",
   "execution_count": 5,
   "metadata": {},
   "outputs": [],
   "source": [
    "model_name = \"distilbert-base-uncased\" # a small version of BERT\n",
    "\n",
    "nlp = pipeline(\"fill-mask\", model_name) # create pipeline"
   ]
  },
  {
   "cell_type": "code",
   "execution_count": 20,
   "metadata": {},
   "outputs": [
    {
     "name": "stdout",
     "output_type": "stream",
     "text": [
      "\n",
      "love => positive\n",
      "hate => negative\n",
      "great => positive\n",
      "terrible => negative\n",
      "perfect => [MASK]\n",
      "\n",
      "[{'sequence': 'love = > positive hate = > negative great = > positive terrible = > negative perfect = > |', 'score': 0.25564244389533997, 'token': 1064, 'token_str': '|'}, {'sequence': 'love = > positive hate = > negative great = > positive terrible = > negative perfect = >.', 'score': 0.17725659906864166, 'token': 1012, 'token_str': '.'}, {'sequence': 'love = > positive hate = > negative great = > positive terrible = > negative perfect = > ;', 'score': 0.09742584079504013, 'token': 1025, 'token_str': ';'}, {'sequence': 'love = > positive hate = > negative great = > positive terrible = > negative perfect = > >', 'score': 0.05383085831999779, 'token': 1028, 'token_str': '>'}, {'sequence': 'love = > positive hate = > negative great = > positive terrible = > negative perfect = > negative', 'score': 0.04975255951285362, 'token': 4997, 'token_str': 'negative'}]\n"
     ]
    }
   ],
   "source": [
    "#BAD EXAMPLE\n",
    "sentence_to_classify = \"perfect\"\n",
    "\n",
    "prompt = f\"\"\"\n",
    "love => positive\n",
    "hate => negative\n",
    "great => positive\n",
    "terrible => negative\n",
    "{sentence_to_classify} => {nlp.tokenizer.mask_token}\n",
    "\"\"\"\n",
    "\n",
    "print(prompt)\n",
    "print(nlp(prompt))"
   ]
  },
  {
   "cell_type": "code",
   "execution_count": 14,
   "metadata": {},
   "outputs": [
    {
     "name": "stdout",
     "output_type": "stream",
     "text": [
      "\n",
      "beautiful = is a positive word\n",
      "ugly = is a negative word\n",
      "great = is a positive word\n",
      "terrible = is a negative word\n",
      "amazing = is a positive word\n",
      "good = is a [MASK] word\n",
      "\n",
      "[{'sequence': 'beautiful = is a positive word ugly = is a negative word great = is a positive word terrible = is a negative word amazing = is a positive word good = is a negative word', 'score': 0.66949462890625, 'token': 4997, 'token_str': 'negative'}, {'sequence': 'beautiful = is a positive word ugly = is a negative word great = is a positive word terrible = is a negative word amazing = is a positive word good = is a positive word', 'score': 0.323766827583313, 'token': 3893, 'token_str': 'positive'}, {'sequence': 'beautiful = is a positive word ugly = is a negative word great = is a positive word terrible = is a negative word amazing = is a positive word good = is a bad word', 'score': 0.0016469251131638885, 'token': 2919, 'token_str': 'bad'}, {'sequence': 'beautiful = is a positive word ugly = is a negative word great = is a positive word terrible = is a negative word amazing = is a positive word good = is a good word', 'score': 0.0010146285640075803, 'token': 2204, 'token_str': 'good'}, {'sequence': 'beautiful = is a positive word ugly = is a negative word great = is a positive word terrible = is a negative word amazing = is a positive word good = is a neutral word', 'score': 0.00021138417650945485, 'token': 8699, 'token_str': 'neutral'}]\n"
     ]
    }
   ],
   "source": [
    "# examples\n",
    "sentence_to_classify = \"good\"\n",
    "\n",
    "prompt = f\"\"\"\n",
    "beautiful = is a positive word\n",
    "ugly = is a negative word\n",
    "great = is a positive word\n",
    "terrible = is a negative word\n",
    "amazing = is a positive word\n",
    "{sentence_to_classify} = is a {tokenizer.mask_token} word\n",
    "\"\"\"\n",
    "\n",
    "print(prompt)\n",
    "print(nlp(prompt))"
   ]
  },
  {
   "cell_type": "code",
   "execution_count": 24,
   "metadata": {},
   "outputs": [
    {
     "name": "stdout",
     "output_type": "stream",
     "text": [
      "negative\n",
      "positive\n",
      "bad\n",
      "good\n",
      "terrible\n"
     ]
    }
   ],
   "source": [
    "from transformers import AutoModelForMaskedLM, AutoTokenizer\n",
    "import torch\n",
    "\n",
    "# download and load the tokenizer and model\n",
    "tokenizer = AutoTokenizer.from_pretrained(\"distilbert-base-uncased\")\n",
    "model = AutoModelForMaskedLM.from_pretrained(\"distilbert-base-uncased\")\n",
    "\n",
    "# create prompt:\n",
    "sentence_to_classify = \"stupid\"\n",
    "prompt = f\"\"\"\n",
    "terrible is a negative word\n",
    "ugly is a negative word\n",
    "great is a positive word\n",
    "amazing is a positive word\n",
    "beautiful is a positive word\n",
    "{sentence_to_classify} is a {tokenizer.mask_token} word\n",
    "\"\"\"\n",
    "\n",
    "# tokenize the input\n",
    "input = tokenizer.encode(prompt, return_tensors=\"pt\")\n",
    "mask_token_index = torch.where(input == tokenizer.mask_token_id)\n",
    "mask_token_index = torch.where(input == tokenizer.mask_token_id)[1]  # record the index of the mask token\n",
    "\n",
    "# forward pass through the model\n",
    "token_logits = model(input).logits\n",
    "token_logits.shape  # (batch_size, tokens, vocabulary) in this case it is (1, 30, 30522)\n",
    "\n",
    "# extract the most likely word for the MASK\n",
    "mask_token_logits = token_logits[0, mask_token_index, :]  # select the mask token\n",
    "top_5_tokens = torch.topk(mask_token_logits, 5, dim=1).indices[0].tolist()\n",
    "\n",
    "for token in top_5_tokens:\n",
    "    print(tokenizer.decode([token]))"
   ]
  }
 ],
 "metadata": {
  "interpreter": {
   "hash": "f20a2b0473630642730946317169bdea332e5675536504f1ca8796679a7e5286"
  },
  "kernelspec": {
   "display_name": "Python 3.6.6 64-bit ('nlp_env': venv)",
   "language": "python",
   "name": "python3"
  },
  "language_info": {
   "codemirror_mode": {
    "name": "ipython",
    "version": 3
   },
   "file_extension": ".py",
   "mimetype": "text/x-python",
   "name": "python",
   "nbconvert_exporter": "python",
   "pygments_lexer": "ipython3",
   "version": "3.6.6"
  },
  "orig_nbformat": 4
 },
 "nbformat": 4,
 "nbformat_minor": 2
}
